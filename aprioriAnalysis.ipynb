{
 "cells": [
  {
   "cell_type": "code",
   "execution_count": 14,
   "metadata": {},
   "outputs": [],
   "source": [
    "import pandas as pd\n",
    "from mlxtend.frequent_patterns import apriori\n",
    "from mlxtend.frequent_patterns import association_rules"
   ]
  },
  {
   "cell_type": "code",
   "execution_count": 15,
   "metadata": {},
   "outputs": [],
   "source": [
    "apple_df = pd.read_csv('./AAPL_stock_data.csv')\n",
    "snapchat_df = pd.read_csv('./SNA_stock_data.csv')\n",
    "twitter_df = pd.read_csv('./TWTR_stock_data.csv')"
   ]
  },
  {
   "cell_type": "code",
   "execution_count": 16,
   "metadata": {},
   "outputs": [],
   "source": [
    "apple_df['stock_name'] = 'Apple'\n",
    "snapchat_df['stock_name'] = 'Snapchat'\n",
    "twitter_df['stock_name'] = 'Twitter'"
   ]
  },
  {
   "cell_type": "code",
   "execution_count": 17,
   "metadata": {},
   "outputs": [],
   "source": [
    "combined_df = pd.concat([apple_df, snapchat_df, twitter_df], ignore_index=True)"
   ]
  },
  {
   "cell_type": "code",
   "execution_count": 21,
   "metadata": {},
   "outputs": [],
   "source": [
    "basket = (combined_df.groupby(['date', '1. open', '2. high', '3. low', '4. close', 'stock_name'])['5. volume']\n",
    "          .sum().unstack().reset_index().fillna(0)\n",
    "          .set_index('date'))"
   ]
  },
  {
   "cell_type": "code",
   "execution_count": 22,
   "metadata": {},
   "outputs": [],
   "source": [
    "def encode_units(x):\n",
    "    if x <= 0:\n",
    "        return 0\n",
    "    if x >= 1:\n",
    "        return 1"
   ]
  },
  {
   "cell_type": "code",
   "execution_count": 23,
   "metadata": {},
   "outputs": [
    {
     "name": "stderr",
     "output_type": "stream",
     "text": [
      "/opt/homebrew/lib/python3.11/site-packages/mlxtend/frequent_patterns/fpcommon.py:110: DeprecationWarning: DataFrames with non-bool types result in worse computationalperformance and their support might be discontinued in the future.Please use a DataFrame with bool type\n",
      "  warnings.warn(\n"
     ]
    }
   ],
   "source": [
    "basket_sets = basket.applymap(encode_units)\n",
    "\n",
    "frequent_itemsets = apriori(basket_sets, min_support=0.01, use_colnames=True)"
   ]
  },
  {
   "cell_type": "code",
   "execution_count": 24,
   "metadata": {},
   "outputs": [],
   "source": [
    "combined_df.to_csv('combined_stock_data.csv', index=False)"
   ]
  },
  {
   "cell_type": "code",
   "execution_count": 26,
   "metadata": {},
   "outputs": [
    {
     "name": "stdout",
     "output_type": "stream",
     "text": [
      "    support                                        itemsets\n",
      "0   1.00000                                       (1. open)\n",
      "1   1.00000                                       (2. high)\n",
      "2   1.00000                                        (3. low)\n",
      "3   1.00000                                      (4. close)\n",
      "4   0.42099                                         (Apple)\n",
      "..      ...                                             ...\n",
      "58  0.42099           (4. close, 3. low, 2. high, Snapchat)\n",
      "59  0.15795            (4. close, 3. low, 2. high, Twitter)\n",
      "60  0.42099     (4. close, Apple, 2. high, 3. low, 1. open)\n",
      "61  0.42099  (4. close, Snapchat, 2. high, 3. low, 1. open)\n",
      "62  0.15795   (4. close, 2. high, 3. low, 1. open, Twitter)\n",
      "\n",
      "[63 rows x 2 columns]\n"
     ]
    }
   ],
   "source": [
    "print(frequent_itemsets)"
   ]
  }
 ],
 "metadata": {
  "kernelspec": {
   "display_name": "Python 3",
   "language": "python",
   "name": "python3"
  },
  "language_info": {
   "codemirror_mode": {
    "name": "ipython",
    "version": 3
   },
   "file_extension": ".py",
   "mimetype": "text/x-python",
   "name": "python",
   "nbconvert_exporter": "python",
   "pygments_lexer": "ipython3",
   "version": "3.11.5"
  }
 },
 "nbformat": 4,
 "nbformat_minor": 2
}
