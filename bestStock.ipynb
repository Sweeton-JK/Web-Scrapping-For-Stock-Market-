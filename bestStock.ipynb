{
 "cells": [
  {
   "cell_type": "code",
   "execution_count": 75,
   "metadata": {},
   "outputs": [],
   "source": [
    "import pandas as pd\n",
    "from sklearn.ensemble import RandomForestClassifier\n",
    "from sklearn.preprocessing import LabelEncoder\n",
    "from datetime import datetime"
   ]
  },
  {
   "cell_type": "code",
   "execution_count": 76,
   "metadata": {},
   "outputs": [],
   "source": [
    "df = pd.read_csv('./combined_stock_data.csv')"
   ]
  },
  {
   "cell_type": "code",
   "execution_count": 77,
   "metadata": {},
   "outputs": [],
   "source": [
    "df['date'] = pd.to_datetime(df['date'])"
   ]
  },
  {
   "cell_type": "code",
   "execution_count": 78,
   "metadata": {},
   "outputs": [],
   "source": [
    "label_encoder = LabelEncoder()\n",
    "df['stock_name_encoded'] = label_encoder.fit_transform(df['stock_name'])"
   ]
  },
  {
   "cell_type": "code",
   "execution_count": 79,
   "metadata": {},
   "outputs": [],
   "source": [
    "min_date = df['date'].min()\n",
    "df['days_since_min_date'] = (df['date'] - min_date).dt.days"
   ]
  },
  {
   "cell_type": "code",
   "execution_count": 80,
   "metadata": {},
   "outputs": [],
   "source": [
    "user_input = input(\"Enter a date (YYYY-MM-DD): \")\n",
    "user_date = datetime.strptime(user_input, '%Y-%m-%d')"
   ]
  },
  {
   "cell_type": "code",
   "execution_count": 81,
   "metadata": {},
   "outputs": [
    {
     "name": "stdout",
     "output_type": "stream",
     "text": [
      "The best stock to buy on 3000-4-5 is: Apple\n"
     ]
    },
    {
     "name": "stderr",
     "output_type": "stream",
     "text": [
      "/opt/homebrew/lib/python3.11/site-packages/sklearn/base.py:464: UserWarning: X does not have valid feature names, but RandomForestClassifier was fitted with feature names\n",
      "  warnings.warn(\n"
     ]
    }
   ],
   "source": [
    "if user_date > df['date'].max():\n",
    "    # Prepare data for training a random forest classifier\n",
    "    X = df[['4. close', 'days_since_min_date']]\n",
    "    y = df['stock_name_encoded']\n",
    "\n",
    "    # Train a random forest classifier\n",
    "    model = RandomForestClassifier()\n",
    "    model.fit(X, y)\n",
    "\n",
    "    # Calculate days since the minimum date for the user's input date\n",
    "    user_days_since_min_date = (user_date - min_date).days\n",
    "\n",
    "    # Predict the best stock to buy on the user's entered date\n",
    "    user_input_data = [[df['4. close'].mean(), user_days_since_min_date]]\n",
    "    predicted_stock_encoded = model.predict(user_input_data)[0]\n",
    "    predicted_stock = label_encoder.inverse_transform([predicted_stock_encoded])[0]\n",
    "    print(f\"The best stock to buy on {user_input} is: {predicted_stock}\")\n",
    "\n",
    "else:\n",
    "    # Find the row in the DataFrame that matches the entered date\n",
    "    row = df[df['date'] == user_date]\n",
    "\n",
    "    if not row.empty:\n",
    "        # Find the stock with the highest closing price on that date\n",
    "        best_stock_encoded = row.loc[row['4. close'].idxmax()]['stock_name_encoded']\n",
    "        best_stock = label_encoder.inverse_transform([best_stock_encoded])[0]\n",
    "        print(f\"The best stock to buy on {user_input} is: {best_stock}\")\n",
    "    else:\n",
    "        print(f\"No data available for {user_input}\")"
   ]
  }
 ],
 "metadata": {
  "kernelspec": {
   "display_name": "Python 3",
   "language": "python",
   "name": "python3"
  },
  "language_info": {
   "codemirror_mode": {
    "name": "ipython",
    "version": 3
   },
   "file_extension": ".py",
   "mimetype": "text/x-python",
   "name": "python",
   "nbconvert_exporter": "python",
   "pygments_lexer": "ipython3",
   "version": "3.11.5"
  }
 },
 "nbformat": 4,
 "nbformat_minor": 2
}
