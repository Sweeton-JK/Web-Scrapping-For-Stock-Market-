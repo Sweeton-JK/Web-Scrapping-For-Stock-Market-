{
 "cells": [
  {
   "cell_type": "code",
   "execution_count": 88,
   "metadata": {},
   "outputs": [],
   "source": [
    "import pandas as pd\n",
    "from sklearn.preprocessing import LabelEncoder\n",
    "from sklearn.neighbors import KNeighborsClassifier\n",
    "from datetime import datetime"
   ]
  },
  {
   "cell_type": "code",
   "execution_count": 89,
   "metadata": {},
   "outputs": [],
   "source": [
    "df = pd.read_csv('./combined_stock_data.csv')"
   ]
  },
  {
   "cell_type": "code",
   "execution_count": 90,
   "metadata": {},
   "outputs": [],
   "source": [
    "df['date'] = pd.to_datetime(df['date'])\n",
    "\n",
    "label_encoder = LabelEncoder()\n",
    "df['stock_name_encoded'] = label_encoder.fit_transform(df['stock_name'])"
   ]
  },
  {
   "cell_type": "code",
   "execution_count": 91,
   "metadata": {},
   "outputs": [],
   "source": [
    "min_date = df['date'].min()\n",
    "df['days_since_min_date'] = (df['date'] - min_date).dt.days"
   ]
  },
  {
   "cell_type": "code",
   "execution_count": 92,
   "metadata": {},
   "outputs": [],
   "source": [
    "user_input = input(\"Enter a date (YYYY-MM-DD): \")\n",
    "user_date = datetime.strptime(user_input, '%Y-%m-%d')"
   ]
  },
  {
   "cell_type": "code",
   "execution_count": 93,
   "metadata": {},
   "outputs": [
    {
     "name": "stdout",
     "output_type": "stream",
     "text": [
      "The best stock to buy on 2022-10-14 is: Snapchat\n"
     ]
    }
   ],
   "source": [
    "if user_date > df['date'].max():\n",
    "\n",
    "    X = df[['4. close', 'days_since_min_date']]\n",
    "    y = df['stock_name_encoded']\n",
    "\n",
    "    model = KNeighborsClassifier(n_neighbors=5) \n",
    "    model.fit(X, y)\n",
    "\n",
    "    user_days_since_min_date = (user_date - min_date).days\n",
    "\n",
    "    user_input_data = [[df['4. close'].mean(), user_days_since_min_date]]\n",
    "    predicted_stock_encoded = model.predict(user_input_data)[0]\n",
    "    predicted_stock = label_encoder.inverse_transform([predicted_stock_encoded])[0]\n",
    "    print(f\"The best stock to buy on {user_input} is: {predicted_stock}\")\n",
    "\n",
    "else:\n",
    "\n",
    "    row = df[df['date'] == user_date]\n",
    "\n",
    "    if not row.empty:\n",
    "        \n",
    "        best_stock_encoded = row.loc[row['4. close'].idxmax()]['stock_name_encoded']\n",
    "        best_stock = label_encoder.inverse_transform([best_stock_encoded])[0]\n",
    "        print(f\"The best stock to buy on {user_input} is: {best_stock}\")\n",
    "    else:\n",
    "        print(f\"No data available for {user_input}\")"
   ]
  }
 ],
 "metadata": {
  "kernelspec": {
   "display_name": "Python 3",
   "language": "python",
   "name": "python3"
  },
  "language_info": {
   "codemirror_mode": {
    "name": "ipython",
    "version": 3
   },
   "file_extension": ".py",
   "mimetype": "text/x-python",
   "name": "python",
   "nbconvert_exporter": "python",
   "pygments_lexer": "ipython3",
   "version": "3.11.5"
  }
 },
 "nbformat": 4,
 "nbformat_minor": 2
}
